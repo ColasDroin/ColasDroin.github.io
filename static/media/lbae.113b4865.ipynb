{
 "cells": [
  {
   "cell_type": "markdown",
   "metadata": {},
   "source": [
    "# Lipid Brain Atlas Explorer"
   ]
  },
  {
   "cell_type": "markdown",
   "metadata": {},
   "source": [
    "![image zonation](https://colasdroin.github.io/images/lbae.gif)"
   ]
  },
  {
   "cell_type": "markdown",
   "metadata": {},
   "source": [
    "## Context and output"
   ]
  },
  {
   "cell_type": "markdown",
   "metadata": {},
   "source": [
    "I have been working on this project since April 2021, after finishing PhD. I was initially hired as a data visualization specialist, but ended up doing a fair amount of data analysis and machine learning along the way. My main task has been to build a web application as a visualisation and analysis tool that allows users to explore the mouse brain in the lipid metabolic dimension. \n",
    "\n",
    "Unfortunately, the project is still ungoing, and I am not allowed to disclose everything, but I can already present the parts of my work that have been shown during symposiums.\n"
   ]
  },
  {
   "cell_type": "markdown",
   "metadata": {},
   "source": [
    "## Simplified scientific abstract"
   ]
  },
  {
   "cell_type": "markdown",
   "metadata": {},
   "source": [
    "Lipids are fundamental constituents of all living beings: they participate in energy metabolism, account for the assembly of biological membranes, and act as signaling molecules. Brain cells produce thousands of different lipids, each with a distinct role in these biological processes. With the development of lipidomics, it is possible to study the lipid compositional complexity of different brain parts. Nonetheless, a systematic and fine-grained characterization of lipid metabolism in the different brain regions is not available.\n",
    "\n",
    "Using MALDI Mass Spectrometry Imaging (MALDI-MSI), we have recently collected a large dataset of the spatial distribution (at the micrometric scale) of hundreds of lipids across the entire adult mouse brain. In this project, we develop tools that make use of the latest advances in computer science, statistical learning and neural networks to extract, normalize, integrate and analyze lipid distribution images of the brain from our data. These computational procedures will be instrumental for assembling the lipid metabolic atlas of the mouse brain, a resource with a tremendous impact on neurochemical research and the understanding of brain metabolism in health and disease. \n"
   ]
  },
  {
   "cell_type": "markdown",
   "metadata": {},
   "source": [
    "## The app"
   ]
  },
  {
   "cell_type": "markdown",
   "metadata": {},
   "source": [
    "### Overview"
   ]
  },
  {
   "cell_type": "markdown",
   "metadata": {},
   "source": [
    "The Lipid Brain Atlas Explorer is a Python Dash web-application developped as part of the **Lipid Brain Atlas project**, led by the [Lipid Cell Biology lab (EPFL)](https://www.epfl.ch/labs/dangelo-lab/) and the [Neurodevelopmental Systems Biology (EPFL)](https://www.epfl.ch/labs/nsbl/). It is thought as a graphical user interface to assist the inspection and the analysis of a large mass-spectrometry dataset of lipids distribution at micrometric resolution across the entire mouse brain.\n",
    "\n",
    "All of the brain slices aquired have prealably been registered to the [Allen Mouse Brain Common Coordinate Framework v3.0](https://www.sciencedirect.com/science/article/pii/S0092867420304025) (CCFv3), allowing for a hierarchically structured annotation of our data. This registration can be used to display lipid signal between two m/z boundaries in a given slice (*lipid selection* page, in the app) and perform analyses comparing neuroanatomical regions, e.g. averaging and comparing lipid abundance in each region and make an enrichment analysis (*region analysis* page, in the app). It is also used to combine the 2D slice acquisitions into a browsable 3d model of lipid expression (*three dimensional analysis* page, in the app).\n",
    "\n",
    "We hope that this application will be of great help to query the Lipid Brain Atlas to guide your hypotheses and experiments, and more generally to achieve a better understanding of the cellular mechanisms involving lipids that are fundamental for nervous system development and function."
   ]
  },
  {
   "cell_type": "markdown",
   "metadata": {},
   "source": [
    "### Data"
   ]
  },
  {
   "cell_type": "markdown",
   "metadata": {},
   "source": [
    "![image data](https://colasdroin.github.io/images/data_acquisition.png)\n",
    "\n",
    "\n",
    "The multidimensional atlas of the mouse brain lipidome that you can explore through LBAE has been entirely acquired from MALDI Mass Spectrometry Imaging (MALDI-MSI) experiments. We have collected about 6 millions mass spectra, corresponding to 18’000 lipid images of 64 serial sections of two individual adult mouse brains (8 weeks old males BL6). Each pixel captures a region of $5μm$, with a spatial resolution of $25μm$ along a given slice and about $200μm$ across slices. The spectral resolution is of the order of $10^{-5} m/z$."
   ]
  },
  {
   "cell_type": "markdown",
   "metadata": {},
   "source": [
    "## Alignment to the Allen Brain Atlas"
   ]
  },
  {
   "cell_type": "markdown",
   "metadata": {},
   "source": [
    "![image cleaning](https://colasdroin.github.io/images/slices_cleaning.png)"
   ]
  },
  {
   "cell_type": "markdown",
   "metadata": {},
   "source": [
    "The 64 slices were aligned to the [adult mouse brain reference](http://atlas.brain-map.org/atlas?atlas=602630314#atlas=602630314&plate=576989940&structure=549&x=5280.271251166045&y=3744.257593866604&zoom=-3&resolution=11.93&z=3) acquired by the Allen Institute using [ABBA](https://biop.github.io/ijp-imagetoatlas/), a FIJI plugin developped at EPFL for the registration of thin mouse brain slices.\n",
    "\n",
    "Each slice image was built from three different channels, each corresponding to a different set of lipids highlighting different types of structures in the brain. Image were then manually warped and aligned using landmark points. A higher resolution version of the warped slices was exported, along with the corresponding deformation field and the original and warped coordinates in the CCFv3 reference.\n",
    "\n",
    "This procedure allows to track the displacement of every single slice pixel, each of which is linked to a MALDI-MSI spectrum. Due to the warping and upscaling, some pixels are duplicated to fill the empty regions in the final slice image."
   ]
  },
  {
   "cell_type": "markdown",
   "metadata": {},
   "source": [
    "## Video\n",
    "Although the app will only be made available when the corresponding publication is ready, a video demonstrating the app's features is available [here](https://vimeo.com/731345779), or in the cell below.\n"
   ]
  },
  {
   "cell_type": "code",
   "execution_count": 1,
   "metadata": {},
   "outputs": [
    {
     "data": {
      "text/html": [
       "<iframe src=\"https://player.vimeo.com/video/731345779?h=09b74b1a1e\" width=\"700\" height=\"394\" frameborder=\"0\" webkitallowfullscreen mozallowfullscreen allowfullscreen></iframe><p></p>"
      ],
      "text/plain": [
       "<IPython.core.display.HTML object>"
      ]
     },
     "execution_count": 1,
     "metadata": {},
     "output_type": "execute_result"
    }
   ],
   "source": [
    "from IPython.display import HTML\n",
    "HTML('<iframe src=\"https://player.vimeo.com/video/731345779?h=09b74b1a1e\" width=\"700\" height=\"394\" frameborder=\"0\" webkitallowfullscreen mozallowfullscreen allowfullscreen></iframe><p></p>')"
   ]
  }
 ],
 "metadata": {
  "anaconda-cloud": {},
  "kernelspec": {
   "display_name": "Python 3",
   "language": "python",
   "name": "python3"
  },
  "language_info": {
   "codemirror_mode": {
    "name": "ipython",
    "version": 3
   },
   "file_extension": ".py",
   "mimetype": "text/x-python",
   "name": "python",
   "nbconvert_exporter": "python",
   "pygments_lexer": "ipython3",
   "version": "3.9.5"
  },
  "varInspector": {
   "cols": {
    "lenName": 16,
    "lenType": 16,
    "lenVar": 40
   },
   "kernels_config": {
    "python": {
     "delete_cmd_postfix": "",
     "delete_cmd_prefix": "del ",
     "library": "var_list.py",
     "varRefreshCmd": "print(var_dic_list())"
    },
    "r": {
     "delete_cmd_postfix": ") ",
     "delete_cmd_prefix": "rm(",
     "library": "var_list.r",
     "varRefreshCmd": "cat(var_dic_list()) "
    }
   },
   "types_to_exclude": [
    "module",
    "function",
    "builtin_function_or_method",
    "instance",
    "_Feature"
   ],
   "window_display": false
  },
  "vscode": {
   "interpreter": {
    "hash": "3d597f4c481aa0f25dceb95d2a0067e73c0966dcbd003d741d821a7208527ecf"
   }
  }
 },
 "nbformat": 4,
 "nbformat_minor": 2
}
