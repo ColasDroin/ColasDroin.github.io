{
 "cells": [
  {
   "cell_type": "markdown",
   "metadata": {},
   "source": [
    "# Exploring spatiotemporal liver gene expression"
   ]
  },
  {
   "cell_type": "markdown",
   "metadata": {},
   "source": [
    "![image zonation](https://colasdroin.github.io/images/zonation.png)"
   ]
  },
  {
   "cell_type": "markdown",
   "metadata": {},
   "source": [
    "## Context and output"
   ]
  },
  {
   "cell_type": "markdown",
   "metadata": {},
   "source": [
    "I have worked on this project from 2018 to 2019, during the third year of my PhD. I was initially contacted to do a small web-app, as a collaboration with the Itzkovitz lab in the Weizmann Institute of Science, and I ended up doing the whole [computational analysis](https://github.com/ColasDroin/Circadian-zonation) of this [breakthrough paper](https://www.nature.com/articles/s42255-020-00323-1). The final web-app is available [here](https://czviz.epfl.ch), along with the [dataset and analysis presentation](https://czviz.epfl.ch/analysis.html). The app, built with Python Dash, is [open-source](https://github.com/ColasDroin/CZViz)."
   ]
  },
  {
   "cell_type": "markdown",
   "metadata": {},
   "source": [
    "## Simplified abstract"
   ]
  },
  {
   "cell_type": "markdown",
   "metadata": {},
   "source": [
    "This collaborative study with the Itzkovitz lab (Weizmann Institute, Israel), recently published in Nature Metabolism, combines single-cell analysis of liver gene expression with temporal sampling and circadian rhythms to provide the first exhaustive analysis of mouse liver gene expression with both spatial and temporal resolution. Recently, the Itzkovitz lab combined single-cell RNA- sequencing of dissociated hepatocytes and single-molecule RNA fluorescence in situ hybridization to reconstruct spatial mRNA expression profiles along the liver central-portal axis. This revealed an unexpected breadth of spatial heterogeneity in mRNA expression, that coincides with an intricate organization of spatially non-uniform liver functions. In parallel, my lab showed how both the circadian clock and the feeding fasting cycles pervasively drive rhythms of gene expression in bulk, impacting key sectors of liver physiology. We here decided to fill an important knowledge gap by analyzing both spatial and temporal dimensions simultaneously. More specifically, we leveraged state-of-the-art single-cell and computational techniques to report how spatial and temporal regulatory programs interact on the levels of individual genes and liver functions. Notably, we used model selection techniques to formally categorize the different observed gene behaviours. This study is the first to quantify single-cell mRNA levels along the central-portal axis dynamically at several times of the day."
   ]
  },
  {
   "cell_type": "markdown",
   "metadata": {},
   "source": [
    "## Poster\n",
    "This analyis is extensively described in the links I posted above. However, for symposiums, I made a graphic summary in the form of a poster. Don't hesitate to check it out! The high-resolution version is available [here](https://colasdroin.github.io/posters/poster_zonation.pdf)."
   ]
  },
  {
   "cell_type": "markdown",
   "metadata": {},
   "source": [
    "![image poster](https://colasdroin.github.io/images/poster_zonation.png)"
   ]
  },
  {
   "cell_type": "markdown",
   "metadata": {},
   "source": [
    "## Artwork"
   ]
  },
  {
   "cell_type": "markdown",
   "metadata": {},
   "source": [
    "Nature Metabolism offered us the possibility to submit an artwork as a potential cover for the magazine, along with the final paper. With the help of P5.js, Photoshop and Illustrator, I did my best to produce something remaining relatively sound scientifically, while being appealing to the audience. Unfortunately, it did not make it! But I still like this work very much. You can check the high-resolution version [here](https://colasdroin.github.io/images/artwork_zonation.png)."
   ]
  },
  {
   "cell_type": "markdown",
   "metadata": {},
   "source": [
    "![image artwork](https://colasdroin.github.io/images/artwork_zonation_small.png)"
   ]
  }
 ],
 "metadata": {
  "anaconda-cloud": {},
  "kernelspec": {
   "display_name": "Python 3",
   "language": "python",
   "name": "python3"
  },
  "language_info": {
   "codemirror_mode": {
    "name": "ipython",
    "version": 3
   },
   "file_extension": ".py",
   "mimetype": "text/x-python",
   "name": "python",
   "nbconvert_exporter": "python",
   "pygments_lexer": "ipython3",
   "version": "3.9.5"
  },
  "varInspector": {
   "cols": {
    "lenName": 16,
    "lenType": 16,
    "lenVar": 40
   },
   "kernels_config": {
    "python": {
     "delete_cmd_postfix": "",
     "delete_cmd_prefix": "del ",
     "library": "var_list.py",
     "varRefreshCmd": "print(var_dic_list())"
    },
    "r": {
     "delete_cmd_postfix": ") ",
     "delete_cmd_prefix": "rm(",
     "library": "var_list.r",
     "varRefreshCmd": "cat(var_dic_list()) "
    }
   },
   "types_to_exclude": [
    "module",
    "function",
    "builtin_function_or_method",
    "instance",
    "_Feature"
   ],
   "window_display": false
  },
  "vscode": {
   "interpreter": {
    "hash": "3d597f4c481aa0f25dceb95d2a0067e73c0966dcbd003d741d821a7208527ecf"
   }
  }
 },
 "nbformat": 4,
 "nbformat_minor": 2
}
