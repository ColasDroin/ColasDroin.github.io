{
 "cells": [
  {
   "cell_type": "markdown",
   "metadata": {},
   "source": [
    "# Using an autonomous dynamical system to predict cell-cycle dynamics"
   ]
  },
  {
   "cell_type": "markdown",
   "metadata": {},
   "source": [
    "![image coupling](https://colasdroin.github.io/images/velocity.png)"
   ]
  },
  {
   "cell_type": "markdown",
   "metadata": {},
   "source": [
    "## Context and output"
   ]
  },
  {
   "cell_type": "markdown",
   "metadata": {},
   "source": [
    "I have worked on this project from in 2020, during the last year of my PhD. It was a collaboration, in which I was mainly responsible for the optimization of an autonomous dynamical system representing the cell-cycle in gene expression space. This project is actually a sequel to [RNA velocity](https://www.nature.com/articles/s41586-018-0414-6), and I have been actually collaborating with Gioele La Manno for this.\n",
    "\n",
    "Unfortunately, the project is still very much ongoing, and I am not able to share too many results, neither my own implementation of the model. But I will try to explain briefly what I have been doing."
   ]
  },
  {
   "cell_type": "markdown",
   "metadata": {},
   "source": [
    "## Simplified abstract"
   ]
  },
  {
   "cell_type": "markdown",
   "metadata": {},
   "source": [
    "In this ongoing collaborative study with La Manno’s lab (EPFL), we try to accurately predict the time evolution of single cells in the context of proliferative progress. More specifically, we take interest in the cell-cycle, as it is one of the main drivers of cell-to-cell heterogeneity in gene expression in an otherwise homogeneous cell population. Although various methods have been developed to characterize its progression, they usually rely on a few known markers, and suffer technical batch effects. Single-cell RNA sequencing approaches are also limited as they only provide a static snapshot of the cell expression states. However, taking advantage of the high identifiability of the cell-cycle as a periodic 1D manifold in expression space, we here decided to develop a parametric method based on circular UMAP projection along with a new, cell-consistent version of RNA velocity to directly estimate the cell-cycle speed in any given cell. We validate our methods on several datasets including various cell-types."
   ]
  },
  {
   "cell_type": "markdown",
   "metadata": {},
   "source": [
    "## The model"
   ]
  },
  {
   "cell_type": "markdown",
   "metadata": {},
   "source": [
    "![image vx](https://colasdroin.github.io/images/vx.png)\n",
    "\n",
    "When the initial RNA velocity paper was published, it was a small revolution in the field of cellular dynamics, as finally allowed for a better comprehension of cell trajectories in gene expression space. The basic idea is that, by comparing the quantities of spliced and unspliced RNA in a cell, we can estimate towards which direction the cell is moving, in expression space, as most RNAs should get spliced eventually, with known splicing rates. In all, for each gene $g$, the basic dynamical equations of RNA velocity, for spliced ($S_g$) and unspliced ($U_g$ )counts, are the following:\n",
    "\n",
    "$$\n",
    "    \\dot S_g = \\beta_g U_g - \\gamma_g S_g\n",
    "$$\n",
    "\n",
    "and\n",
    "\n",
    "$$\n",
    "    \\dot U_g = \\alpha_g - \\beta_g U_g\n",
    "$$\n",
    "\n",
    "That is, unspliced RNA is produced at a constant translation rate ($\\alpha_g$), while spliced RNA is produced at a constant splicing rate ($\\beta_g$) and is degraded at a constant rate ($\\gamma_g$). In the original paper, $\\beta_g$ was assumed to be $1$, meaning that each gene would actually evolves on a different timescale."
   ]
  },
  {
   "cell_type": "markdown",
   "metadata": {},
   "source": [
    "In parallel, in the high-dimensional expression space, we expect some dynamical equation governing the time-evolution of the spliced counts of the form:\n",
    "$$\n",
    "    \\frac{d\\textbf{S}}{dt}=F(\\textbf{S}, \\textbf{U})\n",
    "$$\n",
    "This equation is (wrongly) assumed deterministic, but we'll stick to that for now. Even in this form, it still has a massive number of parameters, and inferring $F$ is not realistic. To make things more simpler, we therefore assume that the gene expression states, noted $y_g(x) = (u_g(x), s_g(x))$ depend on $x\\in\\cal{M}$, where $\\cal{M}$ is a given low-dimensional manifold, and $(u_g(x), s_g(x))$ represent the noiseless version of $S_g$ and $U_g$. We then assume there exists an _autonomous_ equation for $\\textbf{x}$:\n",
    "$$\n",
    "    \\frac{d\\textbf{x}}{dt}=V(\\textbf{x})~,\n",
    "$$\n",
    "which provides a useful low-dimensional approximation of the full dynamics. Thus, in ${\\cal M}$, we expect a density $\\rho(x)$ and a velocity field $V(x)$. Now, for consistency, we must have:\n",
    "\n",
    "$$\n",
    "\\frac{ds_g(x(t))}{dt} = (\\nabla_x s_g)\\cdot V(x(t)) = \\beta_g u_g(x(t)) - \\gamma_g s_g(x(t))\n",
    "$$"
   ]
  },
  {
   "cell_type": "markdown",
   "metadata": {},
   "source": [
    "Now, RNA velocity has shown that many cells were following what seems to look like a circle in expression space:\n",
    "\n",
    "![image vy](https://colasdroin.github.io/images/vy.png)\n",
    "\n",
    "We are therefore interested in our model in the case of a cycling manifold. We write a general model for the data (the $c$ index stands for cell, each cell having its own phase $\\phi_c$ along the cell-cycle), parameterized by a phase on the manifold $\\cal{M}$.\n",
    "\n",
    "$$\n",
    "\\begin{align}\n",
    "    & S_{gc}=s_g(\\phi_c) +\\epsilon_{gc} \\\\\n",
    "    &U_{gc}=u_g(\\phi_c) +\\epsilon_{gc}.\n",
    "\\end{align}\n",
    "$$\n",
    "This means that we are assuming that $\\cal{M}$ is one dimensional (a circle) and $x \\equiv \\phi$."
   ]
  },
  {
   "cell_type": "markdown",
   "metadata": {},
   "source": [
    "We can now study the dynamics of the system, using the consistency equation above (for each gene):\n",
    "\n",
    "$$\n",
    "    \\dot s =\\beta u -\\gamma s=\\partial_\\phi s(\\phi) \\omega(\\phi)\n",
    "$$\n",
    "as our coordinate (phase) follows the equation:\n",
    "\n",
    "$$\n",
    "    \\dot \\phi = \\omega(\\phi).\n",
    "$$\n",
    "\n",
    "From here, the main objective is to optimize $\\omega(\\phi)$, which predicts the velocity of the cell-cycle, common to all genes. \n",
    "\n",
    "Making a few assumptions on the noise distribution and the dynamics of the gene parameters, and a lot of equations, we can show that:\n",
    "\n",
    "$$\n",
    "\\begin{align}\n",
    "    &P(U,S| \\{\\phi\\}, \\{\\nu\\}, \\omega(\\phi), \\{\\beta\\},\\{\\gamma\\})\\sim\\\\\n",
    "    &\\exp{-\\frac{1}{2\\sigma^2}\\sum_{gc}\\left(\\ln{U_{gc}}-\\ln{\\frac{1}{\\beta_g}\\sum_{ff'}\\nu_{gf}\\left(D_{ff'}\\omega(\\phi)+\\gamma_g \\delta_{ff'} \\right)\\zeta_{f'c}}\\right)^2}\n",
    "\\end{align}\n",
    "$$\n",
    "\n",
    "Where $\\nu$ and $D$ and $\\delta$ represent different Fourier harmonics of the signal itself ($S_g$) and of the velocity function, $\\omega$."
   ]
  },
  {
   "cell_type": "markdown",
   "metadata": {},
   "source": [
    "The question is now, how to optimize this formula? Well, there are many parameters, so this is a not trivial problem, in which some tricks have to be used. But the results are still undisclosed for now."
   ]
  },
  {
   "cell_type": "markdown",
   "metadata": {},
   "source": [
    "## Simulations"
   ]
  },
  {
   "cell_type": "markdown",
   "metadata": {},
   "source": [
    "We can easily generate some data for this problem. We start by building unspliced signals from random Fourier series:\n",
    "\n",
    "$$u_g(\\phi) = \\mu_g + \\sum_0^n a_n \\cos(n\\phi) + b_n \\sin(n\\phi)$$\n",
    "\n",
    "where $a_n$ and $b_n$ are random Fourier coefficients. This yields signals like this:"
   ]
  },
  {
   "cell_type": "markdown",
   "metadata": {},
   "source": [
    "![image v1](https://colasdroin.github.io/images/v1.png)"
   ]
  },
  {
   "cell_type": "markdown",
   "metadata": {},
   "source": [
    "We cant then integrate the unspliced signal according to our model to get the spliced:\n",
    "\n",
    "$$\n",
    "s_g(\\phi) = \\int_0^\\phi [\\beta_g u_g(\\theta) - \\gamma_g s_g(\\theta)]\\frac{1}{\\omega}d\\theta\n",
    "$$\n",
    "\n",
    "Yielding:\n",
    "\n",
    "![image v2](https://colasdroin.github.io/images/v2.png)\n"
   ]
  },
  {
   "cell_type": "markdown",
   "metadata": {},
   "source": [
    "We then extract one cycle at steady-state, and add noise and drop-out to replicate real data:\n",
    "\n",
    "![image v3](https://colasdroin.github.io/images/v3.png)\n"
   ]
  },
  {
   "cell_type": "markdown",
   "metadata": {},
   "source": [
    "As a check, we can look at the low-dimensional t-SNE projection of the generated data:\n",
    "\n",
    "![image v4](https://colasdroin.github.io/images/v4.png)\n"
   ]
  },
  {
   "cell_type": "markdown",
   "metadata": {},
   "source": [
    "We then run the optimization algorithm, yielding nice fits:\n",
    "\n",
    "![image v5](https://colasdroin.github.io/images/v5.png)\n",
    "\n",
    "And a pretty accurate velocity function (also generated at the beginning of the procedure):\n",
    "\n",
    "![image v6](https://colasdroin.github.io/images/v6.png)"
   ]
  },
  {
   "cell_type": "markdown",
   "metadata": {},
   "source": [
    "The real issue is to have this work on real data... But this is still an unpublished story."
   ]
  },
  {
   "cell_type": "markdown",
   "metadata": {},
   "source": []
  }
 ],
 "metadata": {
  "anaconda-cloud": {},
  "kernelspec": {
   "display_name": "Python 3",
   "language": "python",
   "name": "python3"
  },
  "language_info": {
   "codemirror_mode": {
    "name": "ipython",
    "version": 3
   },
   "file_extension": ".py",
   "mimetype": "text/x-python",
   "name": "python",
   "nbconvert_exporter": "python",
   "pygments_lexer": "ipython3",
   "version": "3.9.5"
  },
  "varInspector": {
   "cols": {
    "lenName": 16,
    "lenType": 16,
    "lenVar": 40
   },
   "kernels_config": {
    "python": {
     "delete_cmd_postfix": "",
     "delete_cmd_prefix": "del ",
     "library": "var_list.py",
     "varRefreshCmd": "print(var_dic_list())"
    },
    "r": {
     "delete_cmd_postfix": ") ",
     "delete_cmd_prefix": "rm(",
     "library": "var_list.r",
     "varRefreshCmd": "cat(var_dic_list()) "
    }
   },
   "types_to_exclude": [
    "module",
    "function",
    "builtin_function_or_method",
    "instance",
    "_Feature"
   ],
   "window_display": false
  },
  "vscode": {
   "interpreter": {
    "hash": "3d597f4c481aa0f25dceb95d2a0067e73c0966dcbd003d741d821a7208527ecf"
   }
  }
 },
 "nbformat": 4,
 "nbformat_minor": 2
}
